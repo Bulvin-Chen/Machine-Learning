{
 "cells": [
  {
   "cell_type": "code",
   "execution_count": 34,
   "metadata": {
    "collapsed": false
   },
   "outputs": [
    {
     "ename": "IndentationError",
     "evalue": "expected an indented block (<ipython-input-34-c6042b89bf82>, line 10)",
     "output_type": "error",
     "traceback": [
      "\u001b[0;36m  File \u001b[0;32m\"<ipython-input-34-c6042b89bf82>\"\u001b[0;36m, line \u001b[0;32m10\u001b[0m\n\u001b[0;31m    min=x\u001b[0m\n\u001b[0m      ^\u001b[0m\n\u001b[0;31mIndentationError\u001b[0m\u001b[0;31m:\u001b[0m expected an indented block\n"
     ]
    }
   ],
   "source": [
    "# 查看当前挂载的数据集目录\n",
    "!ls /home/aistudio/data/\n",
    "x=input('input x:')\n",
    "y=input('input y:')\n",
    "z=input('input z:')\n",
    "max=0\n",
    "mid=0\n",
    "min=0\n",
    "if(x<y):\n",
    "    min=x\n",
    "    if(y<z):\n",
    "        max=z\n",
    "        mid=y\n",
    "    elif(x<z and z<y):\n",
    "        max=y\n",
    "        mid=z\n",
    "    elif(x>z):\n",
    "        min=z\n",
    "        mid=x\n",
    "        max=y\n",
    "elif(x>y):\n",
    "    max=x                                           \n",
    "    if(z>x):\n",
    "        max=z\n",
    "        min=y\n",
    "        mid=x\n",
    "    elif(y>z):\n",
    "        min=z\n",
    "        mid=y\n",
    "    elif(z<x and z>y):\n",
    "        mid=z\n",
    "        min=y\n",
    "print(min,mid,max)"
   ]
  },
  {
   "cell_type": "code",
   "execution_count": 2,
   "metadata": {
    "collapsed": false
   },
   "outputs": [],
   "source": [
    "# 查看个人持久化工作区文件\n",
    "!ls /home/aistudio/work/"
   ]
  },
  {
   "cell_type": "code",
   "execution_count": null,
   "metadata": {
    "collapsed": false
   },
   "outputs": [],
   "source": []
  }
 ],
 "metadata": {
  "kernelspec": {
   "display_name": "PaddlePaddle 1.2.0 (Python 3.5)",
   "language": "python",
   "name": "py35-paddle1.2.0"
  },
  "language_info": {
   "codemirror_mode": {
    "name": "ipython",
    "version": 3
   },
   "file_extension": ".py",
   "mimetype": "text/x-python",
   "name": "python",
   "nbconvert_exporter": "python",
   "pygments_lexer": "ipython3",
   "version": "3.5.5"
  }
 },
 "nbformat": 4,
 "nbformat_minor": 1
}
