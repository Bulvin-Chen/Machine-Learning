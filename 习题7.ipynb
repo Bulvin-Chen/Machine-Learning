{
 "cells": [
  {
   "cell_type": "code",
   "execution_count": 38,
   "metadata": {
    "collapsed": false
   },
   "outputs": [
    {
     "ename": "FileNotFoundError",
     "evalue": "[Errno 2] No such file or directory: 'D:\\\\Python3.4\\\\82208.txt'",
     "output_type": "error",
     "traceback": [
      "\u001b[0;31m---------------------------------------------------------------------------\u001b[0m",
      "\u001b[0;31mFileNotFoundError\u001b[0m                         Traceback (most recent call last)",
      "\u001b[0;32m<ipython-input-38-83520ff616f2>\u001b[0m in \u001b[0;36m<module>\u001b[0;34m\u001b[0m\n\u001b[1;32m     66\u001b[0m \u001b[0;34m\u001b[0m\u001b[0m\n\u001b[1;32m     67\u001b[0m \u001b[0;32mif\u001b[0m \u001b[0m__name__\u001b[0m \u001b[0;34m==\u001b[0m \u001b[0;34m'__main__'\u001b[0m\u001b[0;34m:\u001b[0m\u001b[0;34m\u001b[0m\u001b[0m\n\u001b[0;32m---> 68\u001b[0;31m     \u001b[0mmain\u001b[0m\u001b[0;34m(\u001b[0m\u001b[0;34m)\u001b[0m\u001b[0;34m\u001b[0m\u001b[0m\n\u001b[0m",
      "\u001b[0;32m<ipython-input-38-83520ff616f2>\u001b[0m in \u001b[0;36mmain\u001b[0;34m()\u001b[0m\n\u001b[1;32m     63\u001b[0m \u001b[0;34m\u001b[0m\u001b[0m\n\u001b[1;32m     64\u001b[0m \u001b[0;32mdef\u001b[0m \u001b[0mmain\u001b[0m\u001b[0;34m(\u001b[0m\u001b[0;34m)\u001b[0m\u001b[0;34m:\u001b[0m\u001b[0;34m\u001b[0m\u001b[0m\n\u001b[0;32m---> 65\u001b[0;31m     \u001b[0mprint_file_stats\u001b[0m\u001b[0;34m(\u001b[0m\u001b[0;34m'D:\\\\Python3.4\\\\82208.txt'\u001b[0m\u001b[0;34m)\u001b[0m\u001b[0;34m\u001b[0m\u001b[0m\n\u001b[0m\u001b[1;32m     66\u001b[0m \u001b[0;34m\u001b[0m\u001b[0m\n\u001b[1;32m     67\u001b[0m \u001b[0;32mif\u001b[0m \u001b[0m__name__\u001b[0m \u001b[0;34m==\u001b[0m \u001b[0;34m'__main__'\u001b[0m\u001b[0;34m:\u001b[0m\u001b[0;34m\u001b[0m\u001b[0m\n",
      "\u001b[0;32m<ipython-input-38-83520ff616f2>\u001b[0m in \u001b[0;36mprint_file_stats\u001b[0;34m(fname)\u001b[0m\n\u001b[1;32m     38\u001b[0m     \u001b[0m打印统计信息\u001b[0m\u001b[0;34m\u001b[0m\u001b[0m\n\u001b[1;32m     39\u001b[0m     \"\"\"\n\u001b[0;32m---> 40\u001b[0;31m     \u001b[0ms\u001b[0m\u001b[0;34m=\u001b[0m\u001b[0mopen\u001b[0m\u001b[0;34m(\u001b[0m\u001b[0mfname\u001b[0m\u001b[0;34m,\u001b[0m\u001b[0;34m'r'\u001b[0m\u001b[0;34m)\u001b[0m\u001b[0;34m.\u001b[0m\u001b[0mread\u001b[0m\u001b[0;34m(\u001b[0m\u001b[0;34m)\u001b[0m\u001b[0;34m\u001b[0m\u001b[0m\n\u001b[0m\u001b[1;32m     41\u001b[0m     \u001b[0mnum_chars\u001b[0m\u001b[0;34m=\u001b[0m\u001b[0mlen\u001b[0m\u001b[0;34m(\u001b[0m\u001b[0ms\u001b[0m\u001b[0;34m)\u001b[0m  \u001b[0;31m#规范化S之前计算字符数\u001b[0m\u001b[0;34m\u001b[0m\u001b[0m\n\u001b[1;32m     42\u001b[0m     \u001b[0mnum_lines\u001b[0m\u001b[0;34m=\u001b[0m\u001b[0ms\u001b[0m\u001b[0;34m.\u001b[0m\u001b[0mcount\u001b[0m\u001b[0;34m(\u001b[0m\u001b[0;34m'\\n'\u001b[0m\u001b[0;34m)\u001b[0m \u001b[0;31m#在规范化s之前计算行数\u001b[0m\u001b[0;34m\u001b[0m\u001b[0m\n",
      "\u001b[0;31mFileNotFoundError\u001b[0m: [Errno 2] No such file or directory: 'D:\\\\Python3.4\\\\82208.txt'"
     ]
    }
   ],
   "source": [
    "# 查看当前挂载的数据集目录\n",
    "!ls /home/aistudio/data/\n",
    "#wordstats.py\n",
    "#包含所有要保留的字符集\n",
    "keep={'a','b','c','d','e',\n",
    "      'f','g','h','i','j',\n",
    "      'k','l','m','n','o',\n",
    "      'p','q','r','s','t',\n",
    "      'u','v','w','x','y',\n",
    "      'z',' ','-',\"'\"}\n",
    " \n",
    "def normalize(s):\n",
    "    \"\"\"\n",
    "    将字符串转化成标准字符\n",
    "    \"\"\"\n",
    "    result=' '\n",
    "    for c in s.lower():\n",
    "        if c in keep:\n",
    "            result += c\n",
    "    return result\n",
    " \n",
    "def make_freq_dict(s):\n",
    "    \"\"\"\n",
    "    返回每个单词的频率数\n",
    "    \"\"\"\n",
    "    s=normalize(s)\n",
    "    words=s.split()\n",
    "    d={}\n",
    "    for w in words:\n",
    "        if w in d: #如果W出现过，就将其出现的次数加1\n",
    "            d[w] += 1\n",
    "        else:\n",
    "            d[w] = 1 #如果w是第一次出现，就将其出现次数设置为1\n",
    "    return d\n",
    " \n",
    "def print_file_stats(fname):\n",
    "    \"\"\"\n",
    "    打印统计信息\n",
    "    \"\"\"\n",
    "    s=open(fname,'r').read()\n",
    "    num_chars=len(s)  #规范化S之前计算字符数\n",
    "    num_lines=s.count('\\n') #在规范化s之前计算行数\n",
    " \n",
    "    d=make_freq_dict(s)\n",
    "    num_words=sum(d[w] for w in d)  #计算s包含多少单词\n",
    " \n",
    "    #创建一个列表，其中的元素为单词及其出现次数的元组，并根据单词出现的次数由高到低排列\n",
    "    lst=[(d[w],w) for w in d]\n",
    "    lst.sort()  #排序\n",
    "    lst.reverse()  #反转\n",
    " \n",
    "    #屏幕上打印信息\n",
    "    print(\"The file '%s' has: \"%fname)\n",
    "    print(\"  %s characters\" %num_chars)\n",
    "    print(\"  %s lines\" %num_lines)\n",
    "    print(\"  %s words\" %num_words)\n",
    " \n",
    "    print(\"\\nThe top 10 most frequent words are:\")\n",
    "    i=1  #循环变量\n",
    "    for count,word in lst[:10]:\n",
    "        print('%2s. %4s %s' %(i,count,word))\n",
    "        i += 1\n",
    " \n",
    "def main():\n",
    "    print_file_stats('D:\\\\Python3.4\\\\82208.txt')\n",
    " \n",
    "if __name__ == '__main__':\n",
    "    main()"
   ]
  },
  {
   "cell_type": "code",
   "execution_count": 2,
   "metadata": {
    "collapsed": false
   },
   "outputs": [],
   "source": [
    "# 查看个人持久化工作区文件\n",
    "!ls /home/aistudio/work/"
   ]
  },
  {
   "cell_type": "code",
   "execution_count": null,
   "metadata": {
    "collapsed": false
   },
   "outputs": [],
   "source": []
  }
 ],
 "metadata": {
  "kernelspec": {
   "display_name": "PaddlePaddle 1.2.0 (Python 3.5)",
   "language": "python",
   "name": "py35-paddle1.2.0"
  },
  "language_info": {
   "codemirror_mode": {
    "name": "ipython",
    "version": 3
   },
   "file_extension": ".py",
   "mimetype": "text/x-python",
   "name": "python",
   "nbconvert_exporter": "python",
   "pygments_lexer": "ipython3",
   "version": "3.5.5"
  }
 },
 "nbformat": 4,
 "nbformat_minor": 1
}
